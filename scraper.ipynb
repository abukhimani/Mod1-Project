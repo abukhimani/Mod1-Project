{
 "cells": [
  {
   "cell_type": "markdown",
   "metadata": {},
   "source": [
    "# Billboard Top 100 Scraping In Conjunction with Spotify\n",
    "\n",
    "The motivation is to find the artists who have appeared in Billboard's Top 100 lists for the last nine years and to look for insights into the features of their current top songs. \n",
    "\n",
    "The first step in this process is to scrape the list of artists for each year from Billboard's website and to pass those into Spotify to retrieve their unique ids and their top songs."
   ]
  },
  {
   "cell_type": "code",
   "execution_count": 12,
   "metadata": {},
   "outputs": [],
   "source": [
    "# Example of access tokens to pass the scripts, these expire periodically and must be refreshed\n",
    "artist_token = 'BQDqV7wAsWS5fipMG7muoSQ8S_PYjguw_ZndC-IeHA9acFrI93oAeMgP_QONGvkvgtGEnwribF3KSBifbwmqhPRY_TKVFeQKOI8GJzafgmIs1n-RcqVncxQ_AFvzoiyAtkiC1z2ydIknjQ'\n",
    "track_token ='BQATiKj1zxc6enn5CallRSLmFGFl-VziO_9eRtcSVk4HXMyP4ypM8lQshyPMn2YC2LcIxEIYdx5mz8_5Td7x-a40UtZRYfRaSA5489aTvWRn2r5_0uswTV3y_a-odN-wjm-uEFUylX2tYw'"
   ]
  },
  {
   "cell_type": "markdown",
   "metadata": {},
   "source": [
    "## Scraper Go Scraping\n",
    "\n",
    "The following loop will run the billboard-scraper script for the last nine years and save the necessary data in a json file corresponding to each year for later joining."
   ]
  },
  {
   "cell_type": "code",
   "execution_count": null,
   "metadata": {},
   "outputs": [],
   "source": [
    "for idx in range(2010,2019):\n",
    "    !eval {f\"python billboard_scraper.py {idx} {artist_token} {track_token}\"}"
   ]
  },
  {
   "cell_type": "markdown",
   "metadata": {},
   "source": [
    "##"
   ]
  }
 ],
 "metadata": {
  "kernelspec": {
   "display_name": "learn-env",
   "language": "python",
   "name": "learn-env"
  },
  "language_info": {
   "codemirror_mode": {
    "name": "ipython",
    "version": 3
   },
   "file_extension": ".py",
   "mimetype": "text/x-python",
   "name": "python",
   "nbconvert_exporter": "python",
   "pygments_lexer": "ipython3",
   "version": "3.7.1"
  }
 },
 "nbformat": 4,
 "nbformat_minor": 2
}
