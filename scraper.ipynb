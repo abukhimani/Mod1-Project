{
 "cells": [
  {
   "cell_type": "code",
   "execution_count": 1,
   "metadata": {},
   "outputs": [
    {
     "name": "stdout",
     "output_type": "stream",
     "text": [
      "Requirement already satisfied: bs4 in /anaconda3/lib/python3.7/site-packages (0.0.1)\r\n",
      "Requirement already satisfied: beautifulsoup4 in /anaconda3/lib/python3.7/site-packages (from bs4) (4.6.3)\r\n"
     ]
    }
   ],
   "source": [
    "!pip install bs4"
   ]
  },
  {
   "cell_type": "code",
   "execution_count": 2,
   "metadata": {},
   "outputs": [],
   "source": [
    "from bs4 import BeautifulSoup\n",
    "import requests\n"
   ]
  },
  {
   "cell_type": "code",
   "execution_count": 3,
   "metadata": {},
   "outputs": [],
   "source": [
    "html = requests.get('https://www.billboard.com/charts/year-end/2018/top-artists')"
   ]
  },
  {
   "cell_type": "code",
   "execution_count": 4,
   "metadata": {},
   "outputs": [],
   "source": [
    "html_content = BeautifulSoup(html.content, 'html.parser')"
   ]
  },
  {
   "cell_type": "code",
   "execution_count": 6,
   "metadata": {},
   "outputs": [],
   "source": [
    "artist_div = html_content.findAll('div', class_=\"ye-chart-item__title\")"
   ]
  },
  {
   "cell_type": "code",
   "execution_count": 36,
   "metadata": {},
   "outputs": [
    {
     "data": {
      "text/plain": [
       "'\\nDrake\\n'"
      ]
     },
     "execution_count": 36,
     "metadata": {},
     "output_type": "execute_result"
    }
   ],
   "source": [
    "html_content.findAll('div', class_=\"ye-chart-item__title\")[0].a.text"
   ]
  },
  {
   "cell_type": "code",
   "execution_count": 44,
   "metadata": {},
   "outputs": [],
   "source": [
    "artist_list = []\n",
    "artist_list_clean = []\n",
    "def topartists(page_url):\n",
    "    url = page_url\n",
    "    html = requests.get(url)\n",
    "    html_content = BeautifulSoup(html.content, 'html.parser')\n",
    "    artist_div = html_content.findAll('div', class_=\"ye-chart-item__title\")\n",
    "    for item in artist_div:\n",
    "        artist_list.append(item.a.text)\n",
    "    for item in artist_list:\n",
    "        artist_list_clean.append(item.strip())\n",
    "    return artist_list_clean"
   ]
  },
  {
   "cell_type": "code",
   "execution_count": 45,
   "metadata": {},
   "outputs": [
    {
     "data": {
      "text/plain": [
       "['Drake',\n",
       " 'Post Malone',\n",
       " 'Ed Sheeran',\n",
       " 'Taylor Swift',\n",
       " 'Cardi B',\n",
       " 'XXXTENTACION',\n",
       " 'Imagine Dragons',\n",
       " 'BTS',\n",
       " 'Bruno Mars',\n",
       " 'Camila Cabello',\n",
       " 'Migos',\n",
       " 'Travis Scott',\n",
       " 'Eminem',\n",
       " 'Ariana Grande',\n",
       " 'Kendrick Lamar',\n",
       " 'Maroon 5',\n",
       " 'Juice WRLD',\n",
       " 'Khalid',\n",
       " 'Dua Lipa',\n",
       " 'Halsey',\n",
       " 'P!nk',\n",
       " 'J. Cole',\n",
       " 'The Weeknd',\n",
       " 'Justin Timberlake',\n",
       " 'Sam Smith',\n",
       " 'Nicki Minaj',\n",
       " 'Demi Lovato',\n",
       " '6ix9ine',\n",
       " 'Chris Stapleton',\n",
       " 'Shawn Mendes',\n",
       " 'Florida Georgia Line',\n",
       " 'Lil Baby',\n",
       " 'Ella Mai',\n",
       " 'Bebe Rexha',\n",
       " 'G-Eazy',\n",
       " 'Luke Bryan',\n",
       " 'YoungBoy Never Broke Again',\n",
       " 'Kenny Chesney',\n",
       " 'Bazzi',\n",
       " 'Thomas Rhett',\n",
       " 'NF',\n",
       " 'Beyonce',\n",
       " 'Lil Wayne',\n",
       " 'Lil Pump',\n",
       " 'Kane Brown',\n",
       " 'Jason Aldean',\n",
       " 'Kanye West',\n",
       " 'Luke Combs',\n",
       " 'Logic',\n",
       " '21 Savage',\n",
       " 'JAY-Z',\n",
       " 'Chris Brown',\n",
       " 'Lil Uzi Vert',\n",
       " 'SZA',\n",
       " 'Kodak Black',\n",
       " 'Charlie Puth',\n",
       " 'Panic! At The Disco',\n",
       " 'Marshmello',\n",
       " 'Rich The Kid',\n",
       " 'U2',\n",
       " 'Selena Gomez',\n",
       " '5 Seconds Of Summer',\n",
       " 'J Balvin',\n",
       " 'Dan + Shay',\n",
       " 'Lady Gaga',\n",
       " 'Ozuna',\n",
       " 'Bad Bunny',\n",
       " 'The Rolling Stones',\n",
       " 'Eagles',\n",
       " 'Brett Young',\n",
       " 'Childish Gambino',\n",
       " 'Portugal. The Man',\n",
       " 'Blake Shelton',\n",
       " 'Lil Skies',\n",
       " 'Future',\n",
       " 'EXO',\n",
       " 'BlocBoy JB',\n",
       " 'Lauv',\n",
       " 'Keith Urban',\n",
       " 'Elton John',\n",
       " 'Offset',\n",
       " 'Metro Boomin',\n",
       " 'Queen',\n",
       " 'Pentatonix',\n",
       " 'Young Thug',\n",
       " 'Rihanna',\n",
       " 'twenty one pilots',\n",
       " 'The Carters',\n",
       " 'Old Dominion',\n",
       " 'Ty Dolla $ign',\n",
       " 'Gucci Mane',\n",
       " 'Billy Joel',\n",
       " 'Maren Morris',\n",
       " 'Journey',\n",
       " 'Foo Fighters',\n",
       " 'Celine Dion',\n",
       " 'DJ Khaled',\n",
       " 'Harry Styles',\n",
       " 'Lauren Daigle',\n",
       " 'Gunna']"
      ]
     },
     "execution_count": 45,
     "metadata": {},
     "output_type": "execute_result"
    }
   ],
   "source": [
    "topartists('https://www.billboard.com/charts/year-end/2018/top-artists')"
   ]
  },
  {
   "cell_type": "code",
   "execution_count": null,
   "metadata": {},
   "outputs": [],
   "source": []
  }
 ],
 "metadata": {
  "kernelspec": {
   "display_name": "learn-env",
   "language": "python",
   "name": "learn-env"
  },
  "language_info": {
   "codemirror_mode": {
    "name": "ipython",
    "version": 3
   },
   "file_extension": ".py",
   "mimetype": "text/x-python",
   "name": "python",
   "nbconvert_exporter": "python",
   "pygments_lexer": "ipython3",
   "version": "3.7.1"
  }
 },
 "nbformat": 4,
 "nbformat_minor": 2
}
