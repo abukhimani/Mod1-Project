{
 "cells": [
  {
   "cell_type": "code",
   "execution_count": 1,
   "metadata": {},
   "outputs": [],
   "source": [
    "import requests\n",
    "from bs4 import BeautifulSoup"
   ]
  },
  {
   "cell_type": "code",
   "execution_count": 2,
   "metadata": {},
   "outputs": [],
   "source": [
    "client_id='e5ef323e5b0a415795db7dd2755f1865'\n",
    "client_secret='0120442d103140e38d9370756217e5b5'"
   ]
  },
  {
   "cell_type": "code",
   "execution_count": 3,
   "metadata": {},
   "outputs": [],
   "source": [
    "def find_artist(name,token):\n",
    "    url='https://api.spotify.com/v1/search?'\n",
    "    url_params=f'q={name}'+'&type=artist'\n",
    "\n",
    "    access_token=token\n",
    "    headers= {\n",
    "        'Authorization': 'Bearer '+access_token\n",
    "    }\n",
    "    response=requests.get(url+url_params,headers=headers)\n",
    "    return response.json()['artists']['items'][0]['uri'][-22:]"
   ]
  },
  {
   "cell_type": "code",
   "execution_count": null,
   "metadata": {},
   "outputs": [],
   "source": []
  }
 ],
 "metadata": {
  "kernelspec": {
   "display_name": "Python 3",
   "language": "python",
   "name": "python3"
  },
  "language_info": {
   "codemirror_mode": {
    "name": "ipython",
    "version": 3
   },
   "file_extension": ".py",
   "mimetype": "text/x-python",
   "name": "python",
   "nbconvert_exporter": "python",
   "pygments_lexer": "ipython3",
   "version": "3.7.1"
  }
 },
 "nbformat": 4,
 "nbformat_minor": 2
}
