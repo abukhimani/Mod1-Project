{
 "cells": [
  {
   "cell_type": "code",
   "execution_count": null,
   "metadata": {},
   "outputs": [],
   "source": [
    "def get_track_names(track_ids, token):\n",
    "    track_collections = []\n",
    "    track_names = []\n",
    "    url = 'https://api.spotify.com/v1/tracks/'\n",
    "    access_token = token\n",
    "    headers = {'Authorization': 'Bearer '+access_token}\n",
    "    for track_id in track_ids:\n",
    "        url_params = track_id\n",
    "        response=requests.get(url+url_params,headers = headers)\n",
    "        track_collections.append(response.json())\n",
    "    for track in track_collections:\n",
    "        track_names.append(track['name'])\n",
    "    return track_names"
   ]
  }
 ],
 "metadata": {
  "kernelspec": {
   "display_name": "learn-env",
   "language": "python",
   "name": "learn-env"
  },
  "language_info": {
   "codemirror_mode": {
    "name": "ipython",
    "version": 3
   },
   "file_extension": ".py",
   "mimetype": "text/x-python",
   "name": "python",
   "nbconvert_exporter": "python",
   "pygments_lexer": "ipython3",
   "version": "3.7.1"
  }
 },
 "nbformat": 4,
 "nbformat_minor": 2
}
