{
 "cells": [
  {
   "cell_type": "code",
   "execution_count": 1,
   "metadata": {},
   "outputs": [],
   "source": [
    "import requests"
   ]
  },
  {
   "cell_type": "code",
   "execution_count": 2,
   "metadata": {},
   "outputs": [],
   "source": [
    "client_id = '63a74ceab91449aabbdeac6c4ee4ae58'\n",
    "client_secret = '4f9b9d3b585543f5a3f955e3656b1c06'"
   ]
  },
  {
   "cell_type": "code",
   "execution_count": 3,
   "metadata": {},
   "outputs": [
    {
     "data": {
      "text/plain": [
       "<Response [401]>"
      ]
     },
     "execution_count": 3,
     "metadata": {},
     "output_type": "execute_result"
    }
   ],
   "source": [
    "requests.get('https://api.spotify.com/v1/audio-analysis/{06AKEBrKUckW0KREUWRnvT}')"
   ]
  },
  {
   "cell_type": "code",
   "execution_count": 4,
   "metadata": {},
   "outputs": [
    {
     "name": "stdout",
     "output_type": "stream",
     "text": [
      "\n",
      "The following command must be run outside of the IPython shell:\n",
      "\n",
      "    $ pip install spotipy\n",
      "\n",
      "The Python package manager (pip) can only be used from outside of IPython.\n",
      "Please reissue the `pip` command in a separate terminal or command prompt.\n",
      "\n",
      "See the Python documentation for more information on how to install packages:\n",
      "\n",
      "    https://docs.python.org/3/installing/\n"
     ]
    }
   ],
   "source": [
    "pip install spotipy"
   ]
  },
  {
   "cell_type": "code",
   "execution_count": 5,
   "metadata": {},
   "outputs": [
    {
     "ename": "SyntaxError",
     "evalue": "invalid syntax (<ipython-input-5-a7e88d9075c0>, line 1)",
     "output_type": "error",
     "traceback": [
      "\u001b[0;36m  File \u001b[0;32m\"<ipython-input-5-a7e88d9075c0>\"\u001b[0;36m, line \u001b[0;32m1\u001b[0m\n\u001b[0;31m    pip3 install spotipy\u001b[0m\n\u001b[0m               ^\u001b[0m\n\u001b[0;31mSyntaxError\u001b[0m\u001b[0;31m:\u001b[0m invalid syntax\n"
     ]
    }
   ],
   "source": [
    "pip3 install spotipy"
   ]
  },
  {
   "cell_type": "code",
   "execution_count": 6,
   "metadata": {},
   "outputs": [],
   "source": [
    "import spotipy"
   ]
  },
  {
   "cell_type": "code",
   "execution_count": 9,
   "metadata": {},
   "outputs": [],
   "source": [
    "import spotipy\n",
    "import spotipy.util as util\n",
    "from spotipy.oauth2 import SpotifyClientCredentials\n",
    "import spotipy.oauth2 as oauth2\n",
    "\n",
    "market = [ \"AD\", \"AR\", \"AT\", \"AU\", \"BE\", \"BG\", \"BO\", \"BR\", \"CA\", \"CH\", \"CL\", \"CO\", \"CR\", \"CY\", \n",
    "      \"CZ\", \"DE\", \"DK\", \"DO\", \"EC\", \"EE\", \"ES\", \"FI\", \"FR\", \"GB\", \"GR\", \"GT\", \"HK\", \"HN\", \"HU\", \n",
    "      \"ID\", \"IE\", \"IS\", \"IT\", \"JP\", \"LI\", \"LT\", \"LU\", \"LV\", \"MC\", \"MT\", \"MX\", \"MY\", \"NI\", \"NL\", \n",
    "      \"NO\", \"NZ\", \"PA\", \"PE\", \"PH\", \"PL\", \"PT\", \"PY\", \"SE\", \"SG\", \"SK\", \"SV\", \"TH\", \"TR\", \"TW\", \n",
    "      \"US\", \"UY\", \"VN\" ]\n",
    "\n",
    "CLIENT_ID = \"63a74ceab91449aabbdeac6c4ee4ae58\"\n",
    "CLIENT_SECRET = \"4f9b9d3b585543f5a3f955e3656b1c06\"\n",
    "\n",
    "credentials = oauth2.SpotifyClientCredentials(\n",
    "        client_id=CLIENT_ID,\n",
    "        client_secret=CLIENT_SECRET)\n",
    "\n",
    "token = credentials.get_access_token()\n",
    "spotify = spotipy.Spotify(auth=token)\n",
    "\n",
    "track = \"coldplay yellow\"\n",
    "res = spotify.search(track, type=\"track\", market=market, limit=1)\n",
    "data_json = res"
   ]
  },
  {
   "cell_type": "code",
   "execution_count": 12,
   "metadata": {},
   "outputs": [
    {
     "data": {
      "text/plain": [
       "dict_values([{'href': 'https://api.spotify.com/v1/search?query=coldplay+yellow&type=track&market=AD&offset=0&limit=1', 'items': [{'album': {'album_type': 'album', 'artists': [{'external_urls': {'spotify': 'https://open.spotify.com/artist/4gzpq5DPGxSnKTe4SA8HAU'}, 'href': 'https://api.spotify.com/v1/artists/4gzpq5DPGxSnKTe4SA8HAU', 'id': '4gzpq5DPGxSnKTe4SA8HAU', 'name': 'Coldplay', 'type': 'artist', 'uri': 'spotify:artist:4gzpq5DPGxSnKTe4SA8HAU'}], 'external_urls': {'spotify': 'https://open.spotify.com/album/6ZG5lRT77aJ3btmArcykra'}, 'href': 'https://api.spotify.com/v1/albums/6ZG5lRT77aJ3btmArcykra', 'id': '6ZG5lRT77aJ3btmArcykra', 'images': [{'height': 640, 'url': 'https://i.scdn.co/image/495b0549379fc4c324445fd7d2bfa219a8c18a90', 'width': 640}, {'height': 300, 'url': 'https://i.scdn.co/image/94ac1cac6fcf2be17533ec6e7d638014b90642a2', 'width': 300}, {'height': 64, 'url': 'https://i.scdn.co/image/68ff8a9ad0e1c8a7196ce5a3f7224b03cc3dec33', 'width': 64}], 'name': 'Parachutes', 'release_date': '2000-07-10', 'release_date_precision': 'day', 'total_tracks': 10, 'type': 'album', 'uri': 'spotify:album:6ZG5lRT77aJ3btmArcykra'}, 'artists': [{'external_urls': {'spotify': 'https://open.spotify.com/artist/4gzpq5DPGxSnKTe4SA8HAU'}, 'href': 'https://api.spotify.com/v1/artists/4gzpq5DPGxSnKTe4SA8HAU', 'id': '4gzpq5DPGxSnKTe4SA8HAU', 'name': 'Coldplay', 'type': 'artist', 'uri': 'spotify:artist:4gzpq5DPGxSnKTe4SA8HAU'}], 'disc_number': 1, 'duration_ms': 266773, 'explicit': False, 'external_ids': {'isrc': 'GBAYE0000267'}, 'external_urls': {'spotify': 'https://open.spotify.com/track/3AJwUDP919kvQ9QcozQPxg'}, 'href': 'https://api.spotify.com/v1/tracks/3AJwUDP919kvQ9QcozQPxg', 'id': '3AJwUDP919kvQ9QcozQPxg', 'is_local': False, 'is_playable': True, 'name': 'Yellow', 'popularity': 79, 'preview_url': 'https://p.scdn.co/mp3-preview/c119ca773ef844108da21c4679dc54c007cf0926?cid=63a74ceab91449aabbdeac6c4ee4ae58', 'track_number': 5, 'type': 'track', 'uri': 'spotify:track:3AJwUDP919kvQ9QcozQPxg'}], 'limit': 1, 'next': 'https://api.spotify.com/v1/search?query=coldplay+yellow&type=track&market=AD&offset=1&limit=1', 'offset': 0, 'previous': None, 'total': 233}])"
      ]
     },
     "execution_count": 12,
     "metadata": {},
     "output_type": "execute_result"
    }
   ],
   "source": [
    "data_json.values()"
   ]
  },
  {
   "cell_type": "code",
   "execution_count": 13,
   "metadata": {},
   "outputs": [],
   "source": [
    "spotify_token = 'BQBBIYimtfX7UHWg_FNTPlYQQlhODfrndwO8ysNWRh8xrNqdlvidXn1qaURfzgRdu0HuLp-Z60dUopL_SK_4YfgPaPJM-euv2wfqzeHqRemmRp9vXPH2u4Zzzw64D-yuKl6yBsN18EASGWesSkdJ61pa_ax4WCW7Ug'"
   ]
  },
  {
   "cell_type": "code",
   "execution_count": 14,
   "metadata": {},
   "outputs": [],
   "source": [
    "spotify_id2 = 'BQALFjE_zzQThra1pbKeGOORwt50jMCx7iI-1TPS48N4PM-UoE04JgS7f425tVAUIk2SPlbVSk7N9dlD4WwKEKBCAHIaGbOLls_RvG3uMf39o9qSP2fGkmbeNupBJwl1ARDfBm7c3LCdb0SHFcV8-Xvvx4TML-7IbQ'"
   ]
  },
  {
   "cell_type": "code",
   "execution_count": 15,
   "metadata": {},
   "outputs": [
    {
     "data": {
      "text/plain": [
       "False"
      ]
     },
     "execution_count": 15,
     "metadata": {},
     "output_type": "execute_result"
    }
   ],
   "source": [
    "spotify_token == spotify_id2"
   ]
  },
  {
   "cell_type": "code",
   "execution_count": null,
   "metadata": {},
   "outputs": [],
   "source": []
  },
  {
   "cell_type": "code",
   "execution_count": null,
   "metadata": {},
   "outputs": [],
   "source": []
  },
  {
   "cell_type": "code",
   "execution_count": null,
   "metadata": {},
   "outputs": [],
   "source": []
  },
  {
   "cell_type": "code",
   "execution_count": null,
   "metadata": {},
   "outputs": [],
   "source": []
  }
 ],
 "metadata": {
  "kernelspec": {
   "display_name": "learn-env",
   "language": "python",
   "name": "learn-env"
  },
  "language_info": {
   "codemirror_mode": {
    "name": "ipython",
    "version": 3
   },
   "file_extension": ".py",
   "mimetype": "text/x-python",
   "name": "python",
   "nbconvert_exporter": "python",
   "pygments_lexer": "ipython3",
   "version": "3.7.1"
  }
 },
 "nbformat": 4,
 "nbformat_minor": 2
}
