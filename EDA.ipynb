{
 "cells": [
  {
   "cell_type": "code",
   "execution_count": 1,
   "metadata": {},
   "outputs": [],
   "source": [
    "import requests\n",
    "import os\n",
    "from bs4 import BeautifulSoup"
   ]
  },
  {
   "cell_type": "code",
   "execution_count": 2,
   "metadata": {},
   "outputs": [],
   "source": [
    "client_id=os.environ.get('client_id')\n",
    "client_secret=environ.get('client_secret')\n",
    "\n",
    "url='https://api.spotify.com/v1/search?'\n",
    "url_params='q=muse'+'&type=artist'\n",
    "\n",
    "access_token=os.environ.get('access_token')\n",
    "headers= {\n",
    "    'Authorization': 'Bearer '+access_token\n",
    "}\n",
    "response=requests.get(url+url_params,headers=headers)"
   ]
  },
  {
   "cell_type": "code",
   "execution_count": 75,
   "metadata": {},
   "outputs": [],
   "source": [
    "data=response.json()"
   ]
  },
  {
   "cell_type": "code",
   "execution_count": 85,
   "metadata": {},
   "outputs": [
    {
     "data": {
      "text/plain": [
       "'12Chz98pHFMPJEknJQMWvI'"
      ]
     },
     "execution_count": 85,
     "metadata": {},
     "output_type": "execute_result"
    }
   ],
   "source": [
    "data['artists']['items'][0]['uri'][-22:]"
   ]
  },
  {
   "cell_type": "code",
   "execution_count": 5,
   "metadata": {},
   "outputs": [],
   "source": [
    "from spotifyAPICaller import find_artist"
   ]
  },
  {
   "cell_type": "code",
   "execution_count": 4,
   "metadata": {},
   "outputs": [],
   "source": [
    "def find_artist_id(name,token):\n",
    "    url='https://api.spotify.com/v1/search?'\n",
    "    url_params=f'q={name}'+'&type=artist'\n",
    "\n",
    "    access_token=token\n",
    "    headers= {\n",
    "        'Authorization': 'Bearer '+access_token\n",
    "    }\n",
    "    response=requests.get(url+url_params,headers=headers)\n",
    "    return response.json()['artists']['items'][0]['uri'][-22:]"
   ]
  },
  {
   "cell_type": "code",
   "execution_count": 12,
   "metadata": {},
   "outputs": [
    {
     "data": {
      "text/plain": [
       "'20JZFwl6HVl6yg8a4H3ZqK'"
      ]
     },
     "execution_count": 12,
     "metadata": {},
     "output_type": "execute_result"
    }
   ],
   "source": [
    "find_artist('Panic! At the disco',access_token)"
   ]
  },
  {
   "cell_type": "code",
   "execution_count": null,
   "metadata": {},
   "outputs": [],
   "source": []
  }
 ],
 "metadata": {
  "kernelspec": {
   "display_name": "Python 3",
   "language": "python",
   "name": "python3"
  },
  "language_info": {
   "codemirror_mode": {
    "name": "ipython",
    "version": 3
   },
   "file_extension": ".py",
   "mimetype": "text/x-python",
   "name": "python",
   "nbconvert_exporter": "python",
   "pygments_lexer": "ipython3",
   "version": "3.7.1"
  }
 },
 "nbformat": 4,
 "nbformat_minor": 2
}
